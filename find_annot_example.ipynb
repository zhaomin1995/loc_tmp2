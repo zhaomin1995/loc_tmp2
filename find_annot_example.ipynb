{
 "cells": [
  {
   "cell_type": "code",
   "execution_count": 20,
   "metadata": {
    "pycharm": {
     "name": "#%%\n"
    }
   },
   "outputs": [],
   "source": [
    "import os\n",
    "import json\n",
    "import csv\n",
    "from IPython.display import display, Image\n",
    "from datetime import datetime"
   ]
  },
  {
   "cell_type": "code",
   "execution_count": 4,
   "metadata": {},
   "outputs": [
    {
     "name": "stdout",
     "output_type": "stream",
     "text": [
      "['1204849482099245057.png', '1204858122583658496.png', '1204861925139587072.png', '1204863934005538816.png', '1204868504824012800.png', '1204874073169371138.png', '1204881260809728001.png', '1204891051271446528.png', '1204894986535424000.png', '1204898656714776576.png', '1204909058815336449.png', '1204916328915714048.png', '1204921141070094336.png', '1204921324851871744.png', '1204925338947596289.png', '1204929617003470848.png', '1204936063531323392.png', '1204939934274084865.png', '1204942957792632832.png', '1204949434662080513.png', 'anchor_1204903191986548829.png', 'anchor_1204903191986548829_noimage.png', 'anchor_1204903191986548829_notext.png']\n"
     ]
    }
   ],
   "source": [
    "saved_tweets_dir = '/media/zhaomin/Zhaomin_SSD/project_repo/emnlp2021/saved_tweets_original'\n",
    "events_noinclude = ['valentinesday_2019-02-14_2019-02-14',\n",
    "                    'valentinesday_2020-02-14_2020-02-14',\n",
    "                    'newyearseve_2019-12-31_2019-12-31',\n",
    "                    'zip_files']\n",
    "\n",
    "num_context = 6\n",
    "for event in os.listdir(saved_tweets_dir):\n",
    "    if event not in events_noinclude:\n",
    "        event_path = os.path.join(saved_tweets_dir, event)\n",
    "        event_screenshot_path = os.path.join(event_path, f'screenshots_{event}')\n",
    "        instances = os.listdir(event_screenshot_path)\n",
    "        for instance in instances:\n",
    "            instance_path = os.path.join(event_screenshot_path, instance)\n",
    "            print(os.listdir(instance_path))\n",
    "            break\n",
    "        break"
   ]
  },
  {
   "cell_type": "code",
   "execution_count": 21,
   "metadata": {},
   "outputs": [],
   "source": [
    "onlytweets_dir = '/home/zhaomin/Documents/saved_tweets/'\n",
    "instances = []\n",
    "num_context = 6\n",
    "batch_filename = 'batch.csv'\n",
    "url_prefix = \"http://www.cse.unt.edu/~blanco/screenshot/\"\n",
    "\n",
    "column_names = ['instance_id', 'event', 'anchor_location', 'anchor_timestamp', 'anchor_url']\n",
    "for i in range(10-num_context+1, 10+num_context+1):\n",
    "    column_names.append(f\"context{i}_url\")\n",
    "\n",
    "with open(batch_filename, 'w') as csvfile:\n",
    "    writer = csv.DictWriter(csvfile, fieldnames=column_names)\n",
    "    writer.writeheader()\n",
    "    \n",
    "    for event in os.listdir(onlytweets_dir):\n",
    "        event_name = event.split(\"_\")[0] + event.split(\"_\")[1].split(\"-\")[0]\n",
    "        event_path = os.path.join(onlytweets_dir, event)\n",
    "        days = os.listdir(event_path)\n",
    "        for day in days:\n",
    "            day_path = os.path.join(event_path, day)\n",
    "            day_instances = os.listdir(day_path)\n",
    "            for day_instance in day_instances:\n",
    "                day_instance_path = os.path.join(day_path, day_instance)\n",
    "\n",
    "                # load the anchor tweet\n",
    "                anchor_filename = f\"anchor_{day_instance}.json\"\n",
    "                anchor_filepath = os.path.join(day_instance_path, anchor_filename)\n",
    "                with open(anchor_filepath, 'r') as anchor_jsonfile:\n",
    "                    anchor_tweet = json.load(anchor_jsonfile)\n",
    "            \n",
    "                location_name = \" \".join([token.capitalize() for token in anchor_tweet['location'].split(\" \")])\n",
    "                \n",
    "                ele = {\n",
    "                    'instance_id': f\"{event_name}_{day_instance}\",\n",
    "                    'event': f\"{event_name}\",\n",
    "                    'anchor_location': location_name,\n",
    "                    'anchor_timestamp': anchor_tweet['created_at'],\n",
    "                    'anchor_url': f\"{url_prefix}{event_name}_{day_instance}_anchor_{day_instance}.png\"\n",
    "                }\n",
    "                \n",
    "                # load the 20 context tweets\n",
    "                tweets = []\n",
    "                filenames = os.listdir(day_instance_path)\n",
    "                json_filenames = [x for x in filenames if x.endswith(\".json\") and not x.startswith(\"anchor\")]\n",
    "                for json_filename in json_filenames:\n",
    "                    json_filepath = os.path.join(day_instance_path, json_filename)\n",
    "                    with open(json_filepath, 'r') as jsonfile:\n",
    "                        tweet = json.load(jsonfile)\n",
    "                        tweets.append(tweet)\n",
    "                context_tweets = sorted(tweets, key = lambda x: datetime.strptime(x['created_at'], '%a %b %d %H:%M:%S +0000 %Y'))\n",
    "                                \n",
    "                # only keep part of the context tweets\n",
    "                context_tweets = context_tweets[10-num_context:10+num_context]\n",
    "\n",
    "                for index, context_tweet in enumerate(context_tweets):\n",
    "                    context_id = context_tweet['id_str']\n",
    "                    ele[f\"context{index+(num_context-1)}_url\"] = f\"{url_prefix}{event_name}_{day_instance}_{context_id}.png\"\n",
    "\n",
    "                writer.writerow(ele)\n",
    "                \n",
    "                all_tweets = context_tweets[:num_context] + [anchor_tweet] + context_tweets[num_context:]\n",
    "                instances.append(all_tweets)\n",
    "#                 break\n",
    "#             break\n",
    "#         break"
   ]
  },
  {
   "cell_type": "code",
   "execution_count": 51,
   "metadata": {},
   "outputs": [
    {
     "data": {
      "text/plain": [
       "'memorialday2020'"
      ]
     },
     "execution_count": 51,
     "metadata": {},
     "output_type": "execute_result"
    }
   ],
   "source": [
    "event.split(\"_\")[0] + event.split(\"_\")[1].split(\"-\")[0]"
   ]
  },
  {
   "cell_type": "code",
   "execution_count": 50,
   "metadata": {
    "scrolled": false
   },
   "outputs": [
    {
     "data": {
      "text/plain": [
       "'Tue May 26 18:20:51 +0000 2020'"
      ]
     },
     "execution_count": 50,
     "metadata": {},
     "output_type": "execute_result"
    }
   ],
   "source": [
    "anchor_tweet['created_at']"
   ]
  },
  {
   "cell_type": "code",
   "execution_count": 15,
   "metadata": {},
   "outputs": [
    {
     "data": {
      "text/plain": [
       "[5, 6, 7, 8, 9, 10, 1, 2, 3, 4, 5, 6]"
      ]
     },
     "execution_count": 15,
     "metadata": {},
     "output_type": "execute_result"
    }
   ],
   "source": [
    "a = [1, 2, 3, 4, 5, 6, 7, 8, 9, 10, 1, 2, 3, 4, 5, 6, 7, 8, 9, 10]\n",
    "a[4:16]"
   ]
  },
  {
   "cell_type": "code",
   "execution_count": 52,
   "metadata": {},
   "outputs": [
    {
     "data": {
      "text/plain": [
       "'1265347181973835776'"
      ]
     },
     "execution_count": 52,
     "metadata": {},
     "output_type": "execute_result"
    }
   ],
   "source": [
    "day_instance"
   ]
  },
  {
   "cell_type": "code",
   "execution_count": null,
   "metadata": {},
   "outputs": [],
   "source": []
  },
  {
   "cell_type": "code",
   "execution_count": 19,
   "metadata": {},
   "outputs": [
    {
     "data": {
      "text/plain": [
       "datetime.datetime(2019, 6, 10, 2, 56, 52)"
      ]
     },
     "execution_count": 19,
     "metadata": {},
     "output_type": "execute_result"
    }
   ],
   "source": [
    "from datetime import datetime\n",
    "\n",
    "a = 'Mon Jun 10 02:56:52 +0000 2019'\n",
    "# datetime.strptime(a, \"%d-%b-%y\")\n",
    "\n",
    "# import time\n",
    "\n",
    "datetime.strptime(a, '%a %b %d %H:%M:%S +0000 %Y')"
   ]
  },
  {
   "cell_type": "code",
   "execution_count": null,
   "metadata": {},
   "outputs": [],
   "source": []
  },
  {
   "cell_type": "code",
   "execution_count": 16,
   "metadata": {},
   "outputs": [
    {
     "data": {
      "text/plain": [
       "{'created_at': 'Mon Jun 10 02:56:52 +0000 2019',\n",
       " 'id': 1137916511123857408,\n",
       " 'id_str': '1137916511123857408',\n",
       " 'full_text': 'What does pollution, trash, and plastic all have in common? They all our a danger to our ocean.\\xa0\\nImagine a world where there were no plastic straws and plastic bags! Beautiful! 😍',\n",
       " 'truncated': False,\n",
       " 'display_text_range': [0, 178],\n",
       " 'entities': {'hashtags': [], 'symbols': [], 'user_mentions': [], 'urls': []},\n",
       " 'source': '<a href=\"https://mobile.twitter.com\" rel=\"nofollow\">Twitter Web App</a>',\n",
       " 'in_reply_to_status_id': None,\n",
       " 'in_reply_to_status_id_str': None,\n",
       " 'in_reply_to_user_id': None,\n",
       " 'in_reply_to_user_id_str': None,\n",
       " 'in_reply_to_screen_name': None,\n",
       " 'user': {'id': 1136685248295706625,\n",
       "  'id_str': '1136685248295706625',\n",
       "  'name': 'Protect and Save our Oceans!',\n",
       "  'screen_name': 'EndDirtyOceans',\n",
       "  'location': 'Philadelphia, PA',\n",
       "  'description': 'The ocean is being destroyed and we NEED to make a change NOW! Here to raise more awareness!🌊💪🐠',\n",
       "  'url': None,\n",
       "  'entities': {'description': {'urls': []}},\n",
       "  'protected': False,\n",
       "  'followers_count': 3,\n",
       "  'friends_count': 1,\n",
       "  'listed_count': 0,\n",
       "  'created_at': 'Thu Jun 06 17:24:16 +0000 2019',\n",
       "  'favourites_count': 0,\n",
       "  'utc_offset': None,\n",
       "  'time_zone': None,\n",
       "  'geo_enabled': False,\n",
       "  'verified': False,\n",
       "  'statuses_count': 75,\n",
       "  'lang': None,\n",
       "  'contributors_enabled': False,\n",
       "  'is_translator': False,\n",
       "  'is_translation_enabled': False,\n",
       "  'profile_background_color': '000000',\n",
       "  'profile_background_image_url': 'http://abs.twimg.com/images/themes/theme1/bg.png',\n",
       "  'profile_background_image_url_https': 'https://abs.twimg.com/images/themes/theme1/bg.png',\n",
       "  'profile_background_tile': False,\n",
       "  'profile_image_url': 'http://pbs.twimg.com/profile_images/1136688980408373254/8hu8dP_3_normal.jpg',\n",
       "  'profile_image_url_https': 'https://pbs.twimg.com/profile_images/1136688980408373254/8hu8dP_3_normal.jpg',\n",
       "  'profile_banner_url': 'https://pbs.twimg.com/profile_banners/1136685248295706625/1559842747',\n",
       "  'profile_link_color': '91D2FA',\n",
       "  'profile_sidebar_border_color': '000000',\n",
       "  'profile_sidebar_fill_color': '000000',\n",
       "  'profile_text_color': '000000',\n",
       "  'profile_use_background_image': False,\n",
       "  'has_extended_profile': True,\n",
       "  'default_profile': False,\n",
       "  'default_profile_image': False,\n",
       "  'following': False,\n",
       "  'follow_request_sent': False,\n",
       "  'notifications': False,\n",
       "  'translator_type': 'none'},\n",
       " 'geo': None,\n",
       " 'coordinates': None,\n",
       " 'place': None,\n",
       " 'contributors': None,\n",
       " 'is_quote_status': False,\n",
       " 'retweet_count': 0,\n",
       " 'favorite_count': 0,\n",
       " 'favorited': False,\n",
       " 'retweeted': False,\n",
       " 'lang': 'en'}"
      ]
     },
     "execution_count": 16,
     "metadata": {},
     "output_type": "execute_result"
    }
   ],
   "source": [
    "tweets[0]"
   ]
  },
  {
   "cell_type": "code",
   "execution_count": null,
   "metadata": {},
   "outputs": [],
   "source": []
  },
  {
   "cell_type": "code",
   "execution_count": 26,
   "metadata": {
    "scrolled": false
   },
   "outputs": [],
   "source": [
    "import pandas as pd\n",
    "\n",
    "df = pd.read_csv('batch (copy).csv')\n",
    "ds = df.sample(frac=1)\n",
    "ds.head(10).to_csv('newfile.csv')\n",
    "# ds.to_csv('newfile.csv')"
   ]
  },
  {
   "cell_type": "code",
   "execution_count": 34,
   "metadata": {},
   "outputs": [
    {
     "data": {
      "text/plain": [
       "6"
      ]
     },
     "execution_count": 34,
     "metadata": {},
     "output_type": "execute_result"
    }
   ],
   "source": [
    "5656 % 10"
   ]
  },
  {
   "cell_type": "code",
   "execution_count": 38,
   "metadata": {},
   "outputs": [],
   "source": [
    "a = 123456789\n",
    "x = []\n",
    "while a > 0:\n",
    "    x.append(a % 10)\n",
    "    a = a // 10"
   ]
  },
  {
   "cell_type": "code",
   "execution_count": 39,
   "metadata": {},
   "outputs": [
    {
     "data": {
      "text/plain": [
       "[9, 8, 7, 6, 5, 4, 3, 2, 1]"
      ]
     },
     "execution_count": 39,
     "metadata": {},
     "output_type": "execute_result"
    }
   ],
   "source": [
    "x"
   ]
  },
  {
   "cell_type": "code",
   "execution_count": 40,
   "metadata": {},
   "outputs": [
    {
     "data": {
      "text/plain": [
       "[1, 2, 3, 4, 5, 6, 7, 8, 9]"
      ]
     },
     "execution_count": 40,
     "metadata": {},
     "output_type": "execute_result"
    }
   ],
   "source": [
    "x[::-1]"
   ]
  },
  {
   "cell_type": "code",
   "execution_count": null,
   "metadata": {},
   "outputs": [],
   "source": []
  },
  {
   "cell_type": "code",
   "execution_count": null,
   "metadata": {},
   "outputs": [],
   "source": []
  },
  {
   "cell_type": "code",
   "execution_count": null,
   "metadata": {},
   "outputs": [],
   "source": []
  },
  {
   "cell_type": "code",
   "execution_count": null,
   "metadata": {},
   "outputs": [],
   "source": []
  },
  {
   "cell_type": "code",
   "execution_count": null,
   "metadata": {},
   "outputs": [],
   "source": []
  },
  {
   "cell_type": "code",
   "execution_count": null,
   "metadata": {},
   "outputs": [],
   "source": []
  },
  {
   "cell_type": "code",
   "execution_count": null,
   "metadata": {},
   "outputs": [],
   "source": []
  },
  {
   "cell_type": "code",
   "execution_count": null,
   "metadata": {},
   "outputs": [],
   "source": []
  },
  {
   "cell_type": "code",
   "execution_count": null,
   "metadata": {},
   "outputs": [],
   "source": []
  }
 ],
 "metadata": {
  "kernelspec": {
   "display_name": "data_collection",
   "language": "python",
   "name": "data_collection"
  },
  "language_info": {
   "codemirror_mode": {
    "name": "ipython",
    "version": 3
   },
   "file_extension": ".py",
   "mimetype": "text/x-python",
   "name": "python",
   "nbconvert_exporter": "python",
   "pygments_lexer": "ipython3",
   "version": "3.8.5"
  }
 },
 "nbformat": 4,
 "nbformat_minor": 1
}
