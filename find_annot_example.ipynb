{
 "cells": [
  {
   "cell_type": "code",
   "execution_count": 1,
   "metadata": {
    "pycharm": {
     "name": "#%%\n"
    }
   },
   "outputs": [],
   "source": [
    "import os\n",
    "import json\n",
    "import csv\n",
    "from IPython.display import display, Image\n",
    "from datetime import datetime"
   ]
  },
  {
   "cell_type": "code",
   "execution_count": null,
   "metadata": {
    "scrolled": false
   },
   "outputs": [],
   "source": [
    "onlytweets_dir = '/home/zhaomin/Documents/saved_tweets/'\n",
    "instances = []\n",
    "num_context = 3\n",
    "batch_filename = 'batch.csv'\n",
    "url_prefix = \"http://www.cse.unt.edu/~blanco/screenshot/\"\n",
    "\n",
    "column_names = ['instance_id', 'event', 'anchor_location', 'anchor_timestamp', 'anchor_url']\n",
    "for i in range(10-num_context+1, 10+num_context+1):\n",
    "    column_names.append(f\"context{i}_url\")\n",
    "    column_names.append(f\"context{i}_timestamp\")\n",
    "\n",
    "with open(batch_filename, 'w') as csvfile:\n",
    "    writer = csv.DictWriter(csvfile, fieldnames=column_names)\n",
    "    writer.writeheader()\n",
    "    \n",
    "    for event in os.listdir(onlytweets_dir):\n",
    "        event_name = event.split(\"_\")[0] + event.split(\"_\")[1].split(\"-\")[0]\n",
    "        event_path = os.path.join(onlytweets_dir, event)\n",
    "        days = os.listdir(event_path)\n",
    "        for day in days:\n",
    "            day_path = os.path.join(event_path, day)\n",
    "            day_instances = os.listdir(day_path)\n",
    "            for day_instance in day_instances:\n",
    "                day_instance_path = os.path.join(day_path, day_instance)\n",
    "\n",
    "                # load the anchor tweet\n",
    "                anchor_filename = f\"anchor_{day_instance}.json\"\n",
    "                anchor_filepath = os.path.join(day_instance_path, anchor_filename)\n",
    "                with open(anchor_filepath, 'r') as anchor_jsonfile:\n",
    "                    anchor_tweet = json.load(anchor_jsonfile)\n",
    "            \n",
    "                location_name = \" \".join([token.capitalize() for token in anchor_tweet['location'].split(\" \")])\n",
    "                \n",
    "                ele = {\n",
    "                    'instance_id': f\"{event_name}_{day_instance}\",\n",
    "                    'event': f\"{event_name}\",\n",
    "                    'anchor_location': location_name,\n",
    "                    'anchor_timestamp': anchor_tweet['created_at'],\n",
    "                    'anchor_url': f\"{url_prefix}{event_name}_{day_instance}_anchor_{day_instance}.png\"\n",
    "                }\n",
    "                \n",
    "                # load the 20 context tweets\n",
    "                tweets = []\n",
    "                filenames = os.listdir(day_instance_path)\n",
    "                json_filenames = [x for x in filenames if x.endswith(\".json\") and not x.startswith(\"anchor\")]\n",
    "                for json_filename in json_filenames:\n",
    "                    json_filepath = os.path.join(day_instance_path, json_filename)\n",
    "                    with open(json_filepath, 'r') as jsonfile:\n",
    "                        tweet = json.load(jsonfile)\n",
    "                        tweets.append(tweet)\n",
    "                context_tweets = sorted(tweets, key = lambda x: datetime.strptime(x['created_at'], '%a %b %d %H:%M:%S +0000 %Y'))\n",
    "                                \n",
    "                # only keep part of the context tweets\n",
    "                context_tweets = context_tweets[10-num_context:10+num_context]\n",
    "                \n",
    "                for index, context_tweet in enumerate(context_tweets):\n",
    "                    context_id = context_tweet['id_str']\n",
    "                    ele[f\"context{index+(10-num_context+1)}_url\"] = f\"{url_prefix}{event_name}_{day_instance}_{context_id}.png\"\n",
    "                    context_timestamp = datetime.strptime(context_tweet['created_at'], '%a %b %d %H:%M:%S +0000 %Y').strftime('%I:%M %p - %b %d, %Y')\n",
    "                    ele[f\"context{index+(10-num_context+1)}_timestamp\"] = context_timestamp\n",
    "\n",
    "                writer.writerow(ele)\n",
    "                \n",
    "                all_tweets = context_tweets[:num_context] + [anchor_tweet] + context_tweets[num_context:]\n",
    "                instances.append(all_tweets)\n",
    "#                 break\n",
    "#             break\n",
    "#         break"
   ]
  },
  {
   "cell_type": "code",
   "execution_count": 51,
   "metadata": {},
   "outputs": [
    {
     "data": {
      "text/plain": [
       "'memorialday2020'"
      ]
     },
     "execution_count": 51,
     "metadata": {},
     "output_type": "execute_result"
    }
   ],
   "source": [
    "event.split(\"_\")[0] + event.split(\"_\")[1].split(\"-\")[0]"
   ]
  },
  {
   "cell_type": "code",
   "execution_count": 50,
   "metadata": {
    "scrolled": false
   },
   "outputs": [
    {
     "data": {
      "text/plain": [
       "'Tue May 26 18:20:51 +0000 2020'"
      ]
     },
     "execution_count": 50,
     "metadata": {},
     "output_type": "execute_result"
    }
   ],
   "source": [
    "anchor_tweet['created_at']"
   ]
  },
  {
   "cell_type": "code",
   "execution_count": 15,
   "metadata": {},
   "outputs": [
    {
     "data": {
      "text/plain": [
       "[5, 6, 7, 8, 9, 10, 1, 2, 3, 4, 5, 6]"
      ]
     },
     "execution_count": 15,
     "metadata": {},
     "output_type": "execute_result"
    }
   ],
   "source": [
    "a = [1, 2, 3, 4, 5, 6, 7, 8, 9, 10, 1, 2, 3, 4, 5, 6, 7, 8, 9, 10]\n",
    "a[4:16]"
   ]
  },
  {
   "cell_type": "code",
   "execution_count": 52,
   "metadata": {},
   "outputs": [
    {
     "data": {
      "text/plain": [
       "'1265347181973835776'"
      ]
     },
     "execution_count": 52,
     "metadata": {},
     "output_type": "execute_result"
    }
   ],
   "source": [
    "day_instance"
   ]
  },
  {
   "cell_type": "code",
   "execution_count": null,
   "metadata": {},
   "outputs": [],
   "source": []
  },
  {
   "cell_type": "code",
   "execution_count": 19,
   "metadata": {},
   "outputs": [
    {
     "data": {
      "text/plain": [
       "datetime.datetime(2019, 6, 10, 2, 56, 52)"
      ]
     },
     "execution_count": 19,
     "metadata": {},
     "output_type": "execute_result"
    }
   ],
   "source": [
    "from datetime import datetime\n",
    "\n",
    "a = 'Mon Jun 10 02:56:52 +0000 2019'\n",
    "# datetime.strptime(a, \"%d-%b-%y\")\n",
    "\n",
    "# import time\n",
    "\n",
    "datetime.strptime(a, '%a %b %d %H:%M:%S +0000 %Y')"
   ]
  },
  {
   "cell_type": "code",
   "execution_count": null,
   "metadata": {},
   "outputs": [],
   "source": []
  },
  {
   "cell_type": "code",
   "execution_count": 16,
   "metadata": {},
   "outputs": [
    {
     "data": {
      "text/plain": [
       "{'created_at': 'Mon Jun 10 02:56:52 +0000 2019',\n",
       " 'id': 1137916511123857408,\n",
       " 'id_str': '1137916511123857408',\n",
       " 'full_text': 'What does pollution, trash, and plastic all have in common? They all our a danger to our ocean.\\xa0\\nImagine a world where there were no plastic straws and plastic bags! Beautiful! 😍',\n",
       " 'truncated': False,\n",
       " 'display_text_range': [0, 178],\n",
       " 'entities': {'hashtags': [], 'symbols': [], 'user_mentions': [], 'urls': []},\n",
       " 'source': '<a href=\"https://mobile.twitter.com\" rel=\"nofollow\">Twitter Web App</a>',\n",
       " 'in_reply_to_status_id': None,\n",
       " 'in_reply_to_status_id_str': None,\n",
       " 'in_reply_to_user_id': None,\n",
       " 'in_reply_to_user_id_str': None,\n",
       " 'in_reply_to_screen_name': None,\n",
       " 'user': {'id': 1136685248295706625,\n",
       "  'id_str': '1136685248295706625',\n",
       "  'name': 'Protect and Save our Oceans!',\n",
       "  'screen_name': 'EndDirtyOceans',\n",
       "  'location': 'Philadelphia, PA',\n",
       "  'description': 'The ocean is being destroyed and we NEED to make a change NOW! Here to raise more awareness!🌊💪🐠',\n",
       "  'url': None,\n",
       "  'entities': {'description': {'urls': []}},\n",
       "  'protected': False,\n",
       "  'followers_count': 3,\n",
       "  'friends_count': 1,\n",
       "  'listed_count': 0,\n",
       "  'created_at': 'Thu Jun 06 17:24:16 +0000 2019',\n",
       "  'favourites_count': 0,\n",
       "  'utc_offset': None,\n",
       "  'time_zone': None,\n",
       "  'geo_enabled': False,\n",
       "  'verified': False,\n",
       "  'statuses_count': 75,\n",
       "  'lang': None,\n",
       "  'contributors_enabled': False,\n",
       "  'is_translator': False,\n",
       "  'is_translation_enabled': False,\n",
       "  'profile_background_color': '000000',\n",
       "  'profile_background_image_url': 'http://abs.twimg.com/images/themes/theme1/bg.png',\n",
       "  'profile_background_image_url_https': 'https://abs.twimg.com/images/themes/theme1/bg.png',\n",
       "  'profile_background_tile': False,\n",
       "  'profile_image_url': 'http://pbs.twimg.com/profile_images/1136688980408373254/8hu8dP_3_normal.jpg',\n",
       "  'profile_image_url_https': 'https://pbs.twimg.com/profile_images/1136688980408373254/8hu8dP_3_normal.jpg',\n",
       "  'profile_banner_url': 'https://pbs.twimg.com/profile_banners/1136685248295706625/1559842747',\n",
       "  'profile_link_color': '91D2FA',\n",
       "  'profile_sidebar_border_color': '000000',\n",
       "  'profile_sidebar_fill_color': '000000',\n",
       "  'profile_text_color': '000000',\n",
       "  'profile_use_background_image': False,\n",
       "  'has_extended_profile': True,\n",
       "  'default_profile': False,\n",
       "  'default_profile_image': False,\n",
       "  'following': False,\n",
       "  'follow_request_sent': False,\n",
       "  'notifications': False,\n",
       "  'translator_type': 'none'},\n",
       " 'geo': None,\n",
       " 'coordinates': None,\n",
       " 'place': None,\n",
       " 'contributors': None,\n",
       " 'is_quote_status': False,\n",
       " 'retweet_count': 0,\n",
       " 'favorite_count': 0,\n",
       " 'favorited': False,\n",
       " 'retweeted': False,\n",
       " 'lang': 'en'}"
      ]
     },
     "execution_count": 16,
     "metadata": {},
     "output_type": "execute_result"
    }
   ],
   "source": [
    "tweets[0]"
   ]
  },
  {
   "cell_type": "code",
   "execution_count": null,
   "metadata": {},
   "outputs": [],
   "source": []
  },
  {
   "cell_type": "code",
   "execution_count": null,
   "metadata": {},
   "outputs": [],
   "source": []
  },
  {
   "cell_type": "code",
   "execution_count": null,
   "metadata": {},
   "outputs": [],
   "source": []
  },
  {
   "cell_type": "code",
   "execution_count": 3,
   "metadata": {},
   "outputs": [],
   "source": [
    "import csv\n",
    "\n",
    "csv_filename = 'batch_3context.csv'\n",
    "        \n",
    "# generate the html file\n",
    "html_filename = \"display_context_anchor.html\"\n",
    "with open(html_filename, 'w') as htmlfile:\n",
    "\n",
    "    with open(csv_filename, 'r') as csvfile:\n",
    "        reader = csv.DictReader(csvfile)\n",
    "        \n",
    "        # write the start\n",
    "        htmlfile.write(\"<!DOCTYPE html>\\n<html>\\n<head>\\n<title>Tweet Example</title>\\n</head>\\n<body>\\n\")\n",
    "\n",
    "        # use a big table to display the tweet example\n",
    "        htmlfile.write(\"\"\"<table style=\\\"margin-left: auto; margin-right: auto; border: 1px solid black; line-height: 1.0em; width: 1200\\\">\\n\"\"\")\n",
    "        image_css = \"\"\"style=\\\"display: block; margin-left: auto; margin-right: auto; max-width: 450px; max-height: 650px;\\\"\"\"\"\n",
    "        \n",
    "        for row in reader:\n",
    "\n",
    "            # 3 context tweets before\n",
    "            htmlfile.write(\"<tr>\\n\")\n",
    "\n",
    "            # context8_url\n",
    "            htmlfile.write(\"<td style=\\\"width:400; border-bottom: 1px solid black;\\\">\\n\")\n",
    "            htmlfile.write(f\"<img src=\\\"{row['context8_url']}\\\" {image_css}>\\n\")\n",
    "            htmlfile.write(\"</td>\\n\")\n",
    "\n",
    "            # context9_url\n",
    "            htmlfile.write(\"<td style=\\\"width:400; border-bottom: 1px solid black;\\\">\\n\")\n",
    "            htmlfile.write(f\"<img src=\\\"{row['context9_url']}\\\" {image_css}>\\n\")\n",
    "            htmlfile.write(\"</td>\\n\")\n",
    "\n",
    "            # context10_url\n",
    "            htmlfile.write(\"<td style=\\\"width:400; border-bottom: 1px solid black;\\\">\\n\")\n",
    "            htmlfile.write(f\"<img src=\\\"{row['context10_url']}\\\" {image_css}>\\n\")\n",
    "            htmlfile.write(\"</td>\\n\")\n",
    "\n",
    "            htmlfile.write(\"</tr>\\n\")\n",
    "            \n",
    "            # anchor tweet\n",
    "            htmlfile.write(\"<tr>\\n\")\n",
    "\n",
    "            # anchor_url\n",
    "            htmlfile.write(\"<td style=\\\"width:400; border-bottom: 1px solid black;\\\">\\n\")\n",
    "            htmlfile.write(f\"<img src=\\\"{row['anchor_url']}\\\" {image_css}>\\n\")\n",
    "            htmlfile.write(\"</td>\\n\")\n",
    "\n",
    "            htmlfile.write(\"</tr>\\n\")\n",
    "            \n",
    "            # 3 context tweets after\n",
    "            htmlfile.write(\"<tr>\\n\")\n",
    "\n",
    "            # context11_url\n",
    "            htmlfile.write(\"<td style=\\\"width:400; border-bottom: 1px solid black;\\\">\\n\")\n",
    "            htmlfile.write(f\"<img src=\\\"{row['context11_url']}\\\" {image_css}>\\n\")\n",
    "            htmlfile.write(\"</td>\\n\")\n",
    "\n",
    "            # context12_url\n",
    "            htmlfile.write(\"<td style=\\\"width:400; border-bottom: 1px solid black;\\\">\\n\")\n",
    "            htmlfile.write(f\"<img src=\\\"{row['context12_url']}\\\" {image_css}>\\n\")\n",
    "            htmlfile.write(\"</td>\\n\")\n",
    "\n",
    "            # context13_url\n",
    "            htmlfile.write(\"<td style=\\\"width:400; border-bottom: 1px solid black;\\\">\\n\")\n",
    "            htmlfile.write(f\"<img src=\\\"{row['context13_url']}\\\" {image_css}>\\n\")\n",
    "            htmlfile.write(\"</td>\\n\")\n",
    "\n",
    "            htmlfile.write(\"</tr>\\n\")\n",
    "            \n",
    "        htmlfile.write(\"</table>\\n\")\n",
    "\n",
    "        # write the end\n",
    "        htmlfile.write(\"</body>\\n</html>\")    "
   ]
  },
  {
   "cell_type": "code",
   "execution_count": null,
   "metadata": {},
   "outputs": [],
   "source": []
  },
  {
   "cell_type": "code",
   "execution_count": null,
   "metadata": {},
   "outputs": [],
   "source": []
  },
  {
   "cell_type": "code",
   "execution_count": null,
   "metadata": {},
   "outputs": [],
   "source": []
  },
  {
   "cell_type": "code",
   "execution_count": null,
   "metadata": {},
   "outputs": [],
   "source": []
  },
  {
   "cell_type": "code",
   "execution_count": null,
   "metadata": {},
   "outputs": [],
   "source": []
  },
  {
   "cell_type": "code",
   "execution_count": null,
   "metadata": {},
   "outputs": [],
   "source": []
  },
  {
   "cell_type": "code",
   "execution_count": null,
   "metadata": {},
   "outputs": [],
   "source": []
  },
  {
   "cell_type": "code",
   "execution_count": null,
   "metadata": {},
   "outputs": [],
   "source": []
  }
 ],
 "metadata": {
  "kernelspec": {
   "display_name": "data_collection",
   "language": "python",
   "name": "data_collection"
  },
  "language_info": {
   "codemirror_mode": {
    "name": "ipython",
    "version": 3
   },
   "file_extension": ".py",
   "mimetype": "text/x-python",
   "name": "python",
   "nbconvert_exporter": "python",
   "pygments_lexer": "ipython3",
   "version": "3.8.5"
  }
 },
 "nbformat": 4,
 "nbformat_minor": 1
}
