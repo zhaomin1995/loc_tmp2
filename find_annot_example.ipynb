{
 "cells": [
  {
   "cell_type": "code",
   "execution_count": 16,
   "metadata": {
    "pycharm": {
     "name": "#%%\n"
    }
   },
   "outputs": [],
   "source": [
    "import os\n",
    "from IPython.display import display, Image"
   ]
  },
  {
   "cell_type": "code",
   "execution_count": 27,
   "metadata": {},
   "outputs": [
    {
     "name": "stdout",
     "output_type": "stream",
     "text": [
      "['1204849482099245057.png', '1204858122583658496.png', '1204861925139587072.png', '1204863934005538816.png', '1204868504824012800.png', '1204874073169371138.png', '1204881260809728001.png', '1204891051271446528.png', '1204894986535424000.png', '1204898656714776576.png', '1204909058815336449.png', '1204916328915714048.png', '1204921141070094336.png', '1204921324851871744.png', '1204925338947596289.png', '1204929617003470848.png', '1204936063531323392.png', '1204939934274084865.png', '1204942957792632832.png', '1204949434662080513.png', 'anchor_1204903191986548829.png', 'anchor_1204903191986548829_noimage.png', 'anchor_1204903191986548829_notext.png']\n"
     ]
    }
   ],
   "source": [
    "saved_tweets_dir = 'D:\\project_repo\\emnlp2021\\saved_tweets_original'\n",
    "events_noinclude = ['valentinesday_2019-02-14_2019-02-14',\n",
    "                    'valentinesday_2020-02-14_2020-02-14',\n",
    "                    'newyearseve_2019-12-31_2019-12-31']\n",
    "\n",
    "for event in os.listdir(saved_tweets_dir):\n",
    "    if event not in events_noinclude:\n",
    "        event_path = os.path.join(saved_tweets_dir, event)\n",
    "        event_screenshot_path = os.path.join(event_path, f'screenshots_{event}')\n",
    "        instances = os.listdir(event_screenshot_path)\n",
    "        for instance in instances:\n",
    "            instance_path = os.path.join(event_screenshot_path, instance)\n",
    "            print(os.listdir(instance_path))\n",
    "            break\n",
    "        break"
   ]
  },
  {
   "cell_type": "code",
   "execution_count": 12,
   "metadata": {},
   "outputs": [
    {
     "data": {
      "text/plain": [
       "['saved_tweets.zip', 'saved_tweets_original', 'saved_tweets']"
      ]
     },
     "execution_count": 12,
     "metadata": {},
     "output_type": "execute_result"
    }
   ],
   "source": []
  },
  {
   "cell_type": "code",
   "execution_count": null,
   "metadata": {},
   "outputs": [],
   "source": []
  }
 ],
 "metadata": {
  "kernelspec": {
   "display_name": "data_collections",
   "language": "python",
   "name": "data_collections"
  },
  "language_info": {
   "codemirror_mode": {
    "name": "ipython",
    "version": 3
   },
   "file_extension": ".py",
   "mimetype": "text/x-python",
   "name": "python",
   "nbconvert_exporter": "python",
   "pygments_lexer": "ipython3",
   "version": "3.8.7"
  }
 },
 "nbformat": 4,
 "nbformat_minor": 1
}