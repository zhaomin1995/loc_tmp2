{
 "cells": [
  {
   "cell_type": "code",
   "execution_count": 1,
   "id": "877a191e",
   "metadata": {},
   "outputs": [],
   "source": [
    "import os\n",
    "import json\n",
    "\n",
    "prediction_folder = 'predictions'\n",
    "prediction_filename = 'prediction_all_bert_lstm.json'\n",
    "prediction_filepath = os.path.join(prediction_folder, prediction_filename)\n",
    "\n",
    "def load_prediction(filepath):\n",
    "    instances = []\n",
    "    with open(filepath, 'r') as jsonfile:\n",
    "        lines = jsonfile.read().split(\"\\n\")[:-1]\n",
    "        for line in lines:\n",
    "            instance = json.loads(line)\n",
    "            instances.append(instance)\n",
    "    return instances\n",
    "\n",
    "instances = load_prediction(prediction_filepath)"
   ]
  },
  {
   "cell_type": "code",
   "execution_count": 2,
   "id": "85aa2ebb",
   "metadata": {},
   "outputs": [
    {
     "data": {
      "text/plain": [
       "{'anchor_location': 'Chandler',\n",
       " 'instance_id': 'christmas2019_1205629485476958209',\n",
       " 'event': 'christmas2019',\n",
       " 'Answer.Q1_A2NT5QSDTUUHOA': 'Yes',\n",
       " 'Answer.Q2_A2NT5QSDTUUHOA': '5',\n",
       " 'adjudicated_label': 'Yes',\n",
       " 'anchor_timestamp': 'Fri Dec 13 23:24:03 +0000 2019',\n",
       " 'anchor_jsonpath': 'data/json_files/christmas2019_1205629485476958209/anchor_1205629485476958209.json',\n",
       " 'anchor_tweettext': '#Christmas treats are plentiful at @DoughnutteryofChandler. Check them out!\\n\\nhttps://t.co/PDXEQNqEwi \\n\\n#chandleraz #doughnuttery #doughnutteryofchandler #franchise  #business #buyabusiness #owneroperator #cinabon #macerich #areadeveloper #smallbusinessopportunity #franchise https://t.co/8wTycMu1XF',\n",
       " 'anchor_url': 'http://www.cse.unt.edu/~blanco/screenshot/christmas2019_1205629485476958209_anchor_1205629485476958209.png',\n",
       " 'anchor_imagepath': 'data/image_files/christmas2019_1205629485476958209/anchor_1205629485476958209.jpg',\n",
       " 'context8_jsonpath': 'data/json_files/christmas2019_1205629485476958209/1203696348614148098.json',\n",
       " 'context8_tweettext': 'Pop-Up Store Operators: Are your holiday sales below expectations? Are your expenses higher than planned? Are you experiencing other challenges which are putting your profitability at risk? \\n\\nTHERE IS STILL TIME TO… https://t.co/Gc2HlRvq3D',\n",
       " 'context8_url': 'http://www.cse.unt.edu/~blanco/screenshot/christmas2019_1205629485476958209_1203696348614148098.png',\n",
       " 'context8_timestamp': 'Sun Dec 08 15:22:27 +0000 2019',\n",
       " 'context9_jsonpath': 'data/json_files/christmas2019_1205629485476958209/1203699090804133890.json',\n",
       " 'context9_tweettext': 'Pop-Up Store Operators: Are your holiday sales below expectations? Are your expenses higher than planned? Are you experiencing other challenges which are putting your profitability at risk? \\nTHERE IS STILL TIME TO REACT!\\n\\nOur Pop-Up Boot Camp Quick-Fix p… https://t.co/pnbXERTmHH https://t.co/S8imKmc6dM',\n",
       " 'context9_url': 'http://www.cse.unt.edu/~blanco/screenshot/christmas2019_1205629485476958209_1203699090804133890.png',\n",
       " 'context9_imagepath': 'data/image_files/christmas2019_1205629485476958209/1203699090804133890.jpg',\n",
       " 'context9_timestamp': 'Sun Dec 08 15:33:21 +0000 2019',\n",
       " 'context10_jsonpath': 'data/json_files/christmas2019_1205629485476958209/1205119556928311296.json',\n",
       " 'context10_tweettext': '@stoolpresidente Good start but big $$ in doing your own pop-ups!',\n",
       " 'context10_url': 'http://www.cse.unt.edu/~blanco/screenshot/christmas2019_1205629485476958209_1205119556928311296.png',\n",
       " 'context10_timestamp': 'Thu Dec 12 13:37:47 +0000 2019',\n",
       " 'context11_jsonpath': 'data/json_files/christmas2019_1205629485476958209/1205633032746606592.json',\n",
       " 'context11_tweettext': '#Christmas treats are plentiful at @DoughnutteryofChandler. Check them out!\\n\\nhttps://t.co/Xl0m4pcDLX \\n#chandleraz #doughnuttery #doughnutteryofchandler #franchise  #business #buyabusiness #owneroperator #cinabon #macerich #areadeveloper #smallbusinessop… https://t.co/XY5yJdDeLh https://t.co/187nGf4JEX',\n",
       " 'context11_url': 'http://www.cse.unt.edu/~blanco/screenshot/christmas2019_1205629485476958209_1205633032746606592.png',\n",
       " 'context11_imagepath': 'data/image_files/christmas2019_1205629485476958209/1205633032746606592.jpg',\n",
       " 'context11_timestamp': 'Fri Dec 13 23:38:09 +0000 2019',\n",
       " 'context12_jsonpath': 'data/json_files/christmas2019_1205629485476958209/1206959408812560384.json',\n",
       " 'context12_tweettext': 'Doughnuttery is officially an Entrepreneur Magazine “Franchise of the Future”! Want to learn more? Message me or check out https://t.co/PDXEQNqEwi \\n\\n#franchiseopportunity #franchise  #entrepreneur #business #entrepreneurship #areadeveloper #smallbusinessopportunity #doughnuttery https://t.co/j9pSXlnsfF',\n",
       " 'context12_url': 'http://www.cse.unt.edu/~blanco/screenshot/christmas2019_1205629485476958209_1206959408812560384.png',\n",
       " 'context12_imagepath': 'data/image_files/christmas2019_1205629485476958209/1206959408812560384.jpg',\n",
       " 'context12_timestamp': 'Tue Dec 17 15:28:41 +0000 2019',\n",
       " 'context13_jsonpath': 'data/json_files/christmas2019_1205629485476958209/1206964590636126214.json',\n",
       " 'context13_tweettext': 'Doughnuttery is officially an Entrepreneur Magazine “Franchise of the Future”! Want to learn more? Message me or check out https://t.co/Xl0m4pcDLX \\n#franchiseopportunity #franchise  #entrepreneur #business #entrepreneurship #buyabusiness #cinabon #owner… https://t.co/VO8Dpd1xFY https://t.co/maHtVD2N9i',\n",
       " 'context13_url': 'http://www.cse.unt.edu/~blanco/screenshot/christmas2019_1205629485476958209_1206964590636126214.png',\n",
       " 'context13_imagepath': 'data/image_files/christmas2019_1205629485476958209/1206964590636126214.jpg',\n",
       " 'context13_timestamp': 'Tue Dec 17 15:49:17 +0000 2019',\n",
       " 'tasktype': 'all_bert_lstm',\n",
       " 'pred_label': 'Yes'}"
      ]
     },
     "execution_count": 2,
     "metadata": {},
     "output_type": "execute_result"
    }
   ],
   "source": [
    "instances[0]"
   ]
  },
  {
   "cell_type": "code",
   "execution_count": null,
   "id": "3ac6eeba",
   "metadata": {},
   "outputs": [],
   "source": []
  }
 ],
 "metadata": {
  "kernelspec": {
   "display_name": "stuff",
   "language": "python",
   "name": "jupyter"
  },
  "language_info": {
   "codemirror_mode": {
    "name": "ipython",
    "version": 3
   },
   "file_extension": ".py",
   "mimetype": "text/x-python",
   "name": "python",
   "nbconvert_exporter": "python",
   "pygments_lexer": "ipython3",
   "version": "3.8.5"
  }
 },
 "nbformat": 4,
 "nbformat_minor": 5
}
