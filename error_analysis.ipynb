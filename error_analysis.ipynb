{
 "cells": [
  {
   "cell_type": "code",
   "execution_count": 1,
   "id": "a0d7ebd3",
   "metadata": {},
   "outputs": [],
   "source": [
    "import os\n",
    "import json\n",
    "\n",
    "prediction_folder = 'predictions'\n",
    "prediction_filename = 'prediction_all_bert_lstm.json'\n",
    "prediction_filepath = os.path.join(prediction_folder, prediction_filename)\n",
    "\n",
    "def load_prediction(filepath):\n",
    "    instances = []\n",
    "    with open(filepath, 'r') as jsonfile:\n",
    "        lines = jsonfile.read().split(\"\\n\")[:-1]\n",
    "        for line in lines:\n",
    "            instance = json.loads(line)\n",
    "            instances.append(instance)\n",
    "    return instances\n",
    "\n",
    "# load the instances with predictions\n",
    "instances = load_prediction(prediction_filepath)\n",
    "\n",
    "# get the instances whose predictions are not correct\n",
    "errors = [ins for ins in instances if ins['adjudicated_label'] != ins['pred_label']]"
   ]
  },
  {
   "cell_type": "markdown",
   "id": "100ec832",
   "metadata": {},
   "source": [
    "## generate html file to display 100 sampled errors (screenshots)"
   ]
  },
  {
   "cell_type": "code",
   "execution_count": 17,
   "id": "675e1bec",
   "metadata": {},
   "outputs": [
    {
     "name": "stdout",
     "output_type": "stream",
     "text": [
      "Done\n"
     ]
    }
   ],
   "source": [
    "import random\n",
    "\n",
    "def get_html(errors, num_samples=100, html_filename='errors.html'):\n",
    "    sampled_errors = random.sample(errors, num_samples)\n",
    "    with open(html_filename, 'w') as htmlfile:\n",
    "        htmlfile.write(\"<!DOCTYPE html>\\n<html>\\n<head>\\n<title>Error Example</title>\\n</head>\\n<body>\\n\")\n",
    "        htmlfile.write(\"\"\"<table style=\\\"margin-left: auto; margin-right: auto; border: 1px solid black; line-height: 1.0em; width: 1200\\\">\\n\"\"\")\n",
    "        image_css = \"\"\"style=\\\"display: block; margin-left: auto; margin-right: auto; max-width: 450px; max-height: 650px;\\\"\"\"\"\n",
    "\n",
    "        for error in sampled_errors:\n",
    "            \n",
    "            ###########################\n",
    "            ### 3 context tweets before\n",
    "            ###########################\n",
    "            \n",
    "            htmlfile.write(\"<tr>\\n\")\n",
    "\n",
    "            # context8_url\n",
    "            htmlfile.write(\"<td style=\\\"width:400; border-bottom: 1px solid black;\\\">\\n\")\n",
    "            htmlfile.write(f\"<img src=\\\"{error['context8_url']}\\\" {image_css}>\\n\")\n",
    "            htmlfile.write(\"</td>\\n\")\n",
    "\n",
    "            # context9_url\n",
    "            htmlfile.write(\"<td style=\\\"width:400; border-bottom: 1px solid black;\\\">\\n\")\n",
    "            htmlfile.write(f\"<img src=\\\"{error['context9_url']}\\\" {image_css}>\\n\")\n",
    "            htmlfile.write(\"</td>\\n\")\n",
    "\n",
    "            # context10_url\n",
    "            htmlfile.write(\"<td style=\\\"width:400; border-bottom: 1px solid black;\\\">\\n\")\n",
    "            htmlfile.write(f\"<img src=\\\"{error['context10_url']}\\\" {image_css}>\\n\")\n",
    "            htmlfile.write(\"</td>\\n\")\n",
    "\n",
    "            htmlfile.write(\"</tr>\\n\")\n",
    "            \n",
    "            ###########################\n",
    "            ### anchor tweet\n",
    "            ###########################\n",
    "            \n",
    "            htmlfile.write(\"<tr>\\n\")\n",
    "            htmlfile.write(\"<td style=\\\"width:400; border-bottom: 1px solid black;\\\"></td>\\n\")\n",
    "\n",
    "            # anchor_url\n",
    "            htmlfile.write(\"<td style=\\\"width:400; border-bottom: 1px solid black;\\\">\\n\")\n",
    "            htmlfile.write(f\"<img src=\\\"{error['anchor_url']}\\\" {image_css}>\\n\")\n",
    "            htmlfile.write(\"</td>\\n\")\n",
    "\n",
    "            htmlfile.write(\"<td style=\\\"width:400; border-bottom: 1px solid black;\\\"></td>\\n\")\n",
    "            htmlfile.write(\"</tr>\\n\")\n",
    "            \n",
    "            ###########################\n",
    "            ### 3 context tweets after\n",
    "            ###########################\n",
    "            \n",
    "            htmlfile.write(\"<tr>\\n\")\n",
    "\n",
    "            # context11_url\n",
    "            htmlfile.write(\"<td style=\\\"width:400; border-bottom: 1px solid black;\\\">\\n\")\n",
    "            htmlfile.write(f\"<img src=\\\"{error['context11_url']}\\\" {image_css}>\\n\")\n",
    "            htmlfile.write(\"</td>\\n\")\n",
    "\n",
    "            # context12_url\n",
    "            htmlfile.write(\"<td style=\\\"width:400; border-bottom: 1px solid black;\\\">\\n\")\n",
    "            htmlfile.write(f\"<img src=\\\"{error['context12_url']}\\\" {image_css}>\\n\")\n",
    "            htmlfile.write(\"</td>\\n\")\n",
    "\n",
    "            # context13_url\n",
    "            htmlfile.write(\"<td style=\\\"width:400; border-bottom: 1px solid black;\\\">\\n\")\n",
    "            htmlfile.write(f\"<img src=\\\"{error['context13_url']}\\\" {image_css}>\\n\")\n",
    "            htmlfile.write(\"</td>\\n\")\n",
    "\n",
    "            htmlfile.write(\"</tr>\\n\")\n",
    "\n",
    "    print(\"Done\")\n",
    "            \n",
    "get_html(errors)"
   ]
  },
  {
   "cell_type": "markdown",
   "id": "cd4f9742",
   "metadata": {},
   "source": [
    "## only display the tweet text"
   ]
  },
  {
   "cell_type": "code",
   "execution_count": 5,
   "id": "4de3408e",
   "metadata": {},
   "outputs": [
    {
     "name": "stdout",
     "output_type": "stream",
     "text": [
      "Done\n"
     ]
    }
   ],
   "source": [
    "import random\n",
    "\n",
    "def get_html(errors, num_samples=100, txt_filename='errors_text'):\n",
    "    sampled_errors = random.sample(errors, num_samples)\n",
    "    with open(txt_filename, 'w') as txtfile:\n",
    "\n",
    "        for error in sampled_errors:\n",
    "            \n",
    "            ###########################\n",
    "            ### 3 context tweets before\n",
    "            ###########################\n",
    "            \n",
    "            txtfile.write(\"#\" * 60 + \"\\n\" + \"#\" * 60 + \"\\n\")\n",
    "            txtfile.write(f\"Location: {error['anchor_location']}, gold_label: {error['adjudicated_label']}, pred_label: {error['pred_label']}\\n\")\n",
    "\n",
    "            # context8\n",
    "            txtfile.write(\"-------------- Tweet 1 --------------\\n\")\n",
    "            txtfile.write(f\"{error['context8_tweettext']}\\n\")\n",
    "\n",
    "            # context9\n",
    "            txtfile.write(\"-------------- Tweet 2 --------------\\n\")\n",
    "            txtfile.write(f\"{error['context9_tweettext']}\\n\")\n",
    "\n",
    "            # context10\n",
    "            txtfile.write(\"-------------- Tweet 3 --------------\\n\")\n",
    "            txtfile.write(f\"{error['context10_tweettext']}\\n\")\n",
    "            \n",
    "            ###########################\n",
    "            ### anchor tweet\n",
    "            ###########################\n",
    "            \n",
    "            # anchor tweet\n",
    "            txtfile.write(\"-------------- Tweet 4 --------------\\n\")\n",
    "            txtfile.write(f\"{error['anchor_tweettext']}\\n\")\n",
    "            \n",
    "            ###########################\n",
    "            ### 3 context tweets after\n",
    "            ###########################\n",
    "            \n",
    "            # context11\n",
    "            txtfile.write(\"-------------- Tweet 5 --------------\\n\")\n",
    "            txtfile.write(f\"{error['context11_tweettext']}\\n\")\n",
    "\n",
    "            # context12\n",
    "            txtfile.write(\"-------------- Tweet 6 --------------\\n\")\n",
    "            txtfile.write(f\"{error['context12_tweettext']}\\n\")\n",
    "\n",
    "            # context13\n",
    "            txtfile.write(\"-------------- Tweet 7 --------------\\n\")\n",
    "            txtfile.write(f\"{error['context13_tweettext']}\\n\")\n",
    "            \n",
    "    print(\"Done\")\n",
    "            \n",
    "get_html(errors)"
   ]
  },
  {
   "cell_type": "code",
   "execution_count": null,
   "id": "517c51c5",
   "metadata": {},
   "outputs": [],
   "source": []
  },
  {
   "cell_type": "markdown",
   "id": "c5336a15",
   "metadata": {},
   "source": [
    "Locate the error via tweet text"
   ]
  },
  {
   "cell_type": "code",
   "execution_count": 14,
   "id": "90f575b9",
   "metadata": {},
   "outputs": [
    {
     "data": {
      "text/plain": [
       "{'anchor_location': 'Reno',\n",
       " 'instance_id': 'thanksgiving2019_1202281007690502146',\n",
       " 'event': 'thanksgiving2019',\n",
       " 'Answer.Q1_A13YTGRLTS80MU': 'No',\n",
       " 'Answer.Q2_A13YTGRLTS80MU': '3',\n",
       " 'adjudicated_label': 'No',\n",
       " 'anchor_timestamp': 'Wed Dec 04 17:38:24 +0000 2019',\n",
       " 'anchor_jsonpath': 'data/json_files/thanksgiving2019_1202281007690502146/anchor_1202281007690502146.json',\n",
       " 'anchor_tweettext': 'Mother statue after renovation by protesters. Al-Umma Park BGD\\n@RichardGrenell\\n@LongDefense\\n@POTUS\\n@SaraCarterDC\\n@SecPompeo\\n@StateDept\\n@USAbilAraby\\n@laraseligman\\n@JeanineHennis\\n@eqanbar\\n@Rez739\\n@DRUDGE\\n@DRUDGE_REPORT\\n #Thanksgiving\\n#Save_the_Iraqi_People #ثورة_تشرين https://t.co/kNutE4NBNN',\n",
       " 'anchor_url': 'http://www.cse.unt.edu/~blanco/screenshot/thanksgiving2019_1202281007690502146_anchor_1202281007690502146.png',\n",
       " 'anchor_imagepath': 'data/image_files/thanksgiving2019_1202281007690502146/anchor_1202281007690502146.jpg',\n",
       " 'context8_jsonpath': 'data/json_files/thanksgiving2019_1202281007690502146/1202277743058141185.json',\n",
       " 'context8_tweettext': 'In all countries, security forces to protect citizens, only in Iraq 2 clean the streets\\n@RichardGrenell\\n@LongDefense\\n@POTUS\\n@SaraCarterDC\\n@SecPompeo\\n@StateDept\\n@USAbilAraby\\n@laraseligman\\n@JeanineHennis\\n@eqanbar\\n@Rez739\\n@DRUDGE\\n@DRUDGE_REPORT\\n #Thanksgiving\\n#Save_the_Iraqi_People https://t.co/52AWFS43OZ',\n",
       " 'context8_url': 'http://www.cse.unt.edu/~blanco/screenshot/thanksgiving2019_1202281007690502146_1202277743058141185.png',\n",
       " 'context8_imagepath': 'data/image_files/thanksgiving2019_1202281007690502146/1202277743058141185.jpg',\n",
       " 'context8_timestamp': 'Wed Dec 04 17:25:25 +0000 2019',\n",
       " 'context9_jsonpath': 'data/json_files/thanksgiving2019_1202281007690502146/1202278902363762689.json',\n",
       " 'context9_tweettext': 'Symbolic funeral for the martyrs #Nasiriyah\\n@RichardGrenell\\n@LongDefense\\n@POTUS\\n@SaraCarterDC\\n@SecPompeo\\n@StateDept\\n@USAbilAraby\\n@laraseligman\\n@JeanineHennis\\n@eqanbar\\n@Rez739\\n@DRUDGE\\n@DRUDGE_REPORT\\n #Thanksgiving\\n#Save_the_Iraqi_People #ثورة_تشرين https://t.co/vmCY5PEXYi',\n",
       " 'context9_url': 'http://www.cse.unt.edu/~blanco/screenshot/thanksgiving2019_1202281007690502146_1202278902363762689.png',\n",
       " 'context9_imagepath': 'data/image_files/thanksgiving2019_1202281007690502146/1202278902363762689.jpg',\n",
       " 'context9_timestamp': 'Wed Dec 04 17:30:02 +0000 2019',\n",
       " 'context10_jsonpath': 'data/json_files/thanksgiving2019_1202281007690502146/1202279375426801665.json',\n",
       " 'context10_tweettext': 'Symbolic funeral for the martyrs #Basrah\\n@RichardGrenell\\n@LongDefense\\n@POTUS\\n@SaraCarterDC\\n@SecPompeo\\n@StateDept\\n@USAbilAraby\\n@laraseligman\\n@JeanineHennis\\n@eqanbar\\n@Rez739\\n@DRUDGE\\n@DRUDGE_REPORT\\n #Thanksgiving\\n#Save_the_Iraqi_People #ثورة_تشرين https://t.co/AIV9hvmp6l',\n",
       " 'context10_url': 'http://www.cse.unt.edu/~blanco/screenshot/thanksgiving2019_1202281007690502146_1202279375426801665.png',\n",
       " 'context10_imagepath': 'data/image_files/thanksgiving2019_1202281007690502146/1202279375426801665.jpg',\n",
       " 'context10_timestamp': 'Wed Dec 04 17:31:55 +0000 2019',\n",
       " 'context11_jsonpath': 'data/json_files/thanksgiving2019_1202281007690502146/1202281886812450821.json',\n",
       " 'context11_tweettext': 'Despite all the circumstances that occurred in Iraq during the revolution, not a single case of harassment of women was recorded .\\n@LongDefense\\n@POTUS\\n@SaraCarterDC\\n@SecPompeo\\n@StateDept\\n@laraseligman\\n@JeanineHennis\\n@eqanbar\\n@Rez739\\n@DRUDGE\\n@DRUDGE_REPORT\\n#Save_the_Iraqi_People',\n",
       " 'context11_url': 'http://www.cse.unt.edu/~blanco/screenshot/thanksgiving2019_1202281007690502146_1202281886812450821.png',\n",
       " 'context11_timestamp': 'Wed Dec 04 17:41:53 +0000 2019',\n",
       " 'context12_jsonpath': 'data/json_files/thanksgiving2019_1202281007690502146/1202282684027936769.json',\n",
       " 'context12_tweettext': 'Message of citizen / #Tahrir tunnel  #Baghdad\\n@RichardGrenell\\n@LongDefense\\n@POTUS\\n@SaraCarterDC\\n@SecPompeo\\n@StateDept\\n@USAbilAraby\\n@laraseligman\\n@JeanineHennis\\n@eqanbar\\n@Rez739\\n@DRUDGE\\n@DRUDGE_REPORT\\n #Thanksgiving\\n#Save_the_Iraqi_People #ثورة_تشرين https://t.co/OOdrlzihUR',\n",
       " 'context12_url': 'http://www.cse.unt.edu/~blanco/screenshot/thanksgiving2019_1202281007690502146_1202282684027936769.png',\n",
       " 'context12_imagepath': 'data/image_files/thanksgiving2019_1202281007690502146/1202282684027936769.jpg',\n",
       " 'context12_timestamp': 'Wed Dec 04 17:45:03 +0000 2019',\n",
       " 'context13_jsonpath': 'data/json_files/thanksgiving2019_1202281007690502146/1202299355387985920.json',\n",
       " 'context13_tweettext': \"This is what it looked like, riot police's morality. Sorry \\n@RichardGrenell\\n@LongDefense\\n@POTUS\\n@SaraCarterDC\\n@SecPompeo\\n@StateDept\\n@USAbilAraby\\n@laraseligman\\n@JeanineHennis\\n@eqanbar\\n@Rez739\\n@DRUDGE\\n@DRUDGE_REPORT\\n #Thanksgiving\\n#Save_the_Iraqi_People #ثورة_تشرين https://t.co/NEmIUKSelO\",\n",
       " 'context13_url': 'http://www.cse.unt.edu/~blanco/screenshot/thanksgiving2019_1202281007690502146_1202299355387985920.png',\n",
       " 'context13_imagepath': 'data/image_files/thanksgiving2019_1202281007690502146/1202299355387985920.jpg',\n",
       " 'context13_timestamp': 'Wed Dec 04 18:51:18 +0000 2019',\n",
       " 'tasktype': 'all_bert_lstm',\n",
       " 'pred_label': 'Yes'}"
      ]
     },
     "execution_count": 14,
     "metadata": {},
     "output_type": "execute_result"
    }
   ],
   "source": [
    "errors[0]"
   ]
  },
  {
   "cell_type": "code",
   "execution_count": 24,
   "id": "75ad8f35",
   "metadata": {
    "scrolled": false
   },
   "outputs": [
    {
     "name": "stdout",
     "output_type": "stream",
     "text": [
      "instance_id: christmas2019_1211435492446740481\n",
      "Location: Houston, gold_label: Yes, pred_label: No\n",
      "-------------- Tweet 1 --------------\n",
      "\n"
     ]
    },
    {
     "data": {
      "text/html": [
       "<img src=\"http://www.cse.unt.edu/~blanco/screenshot/christmas2019_1211435492446740481_1211193395726692353.png\"/>"
      ],
      "text/plain": [
       "<IPython.core.display.Image object>"
      ]
     },
     "metadata": {},
     "output_type": "display_data"
    },
    {
     "name": "stdout",
     "output_type": "stream",
     "text": [
      "-------------- Tweet 2 --------------\n",
      "\n"
     ]
    },
    {
     "data": {
      "text/html": [
       "<img src=\"http://www.cse.unt.edu/~blanco/screenshot/christmas2019_1211435492446740481_1211314695115886592.png\"/>"
      ],
      "text/plain": [
       "<IPython.core.display.Image object>"
      ]
     },
     "metadata": {},
     "output_type": "display_data"
    },
    {
     "name": "stdout",
     "output_type": "stream",
     "text": [
      "-------------- Tweet 3 --------------\n",
      "\n"
     ]
    },
    {
     "data": {
      "text/html": [
       "<img src=\"http://www.cse.unt.edu/~blanco/screenshot/christmas2019_1211435492446740481_1211375092824969216.png\"/>"
      ],
      "text/plain": [
       "<IPython.core.display.Image object>"
      ]
     },
     "metadata": {},
     "output_type": "display_data"
    },
    {
     "name": "stdout",
     "output_type": "stream",
     "text": [
      "-------------- Tweet 4 --------------\n",
      "\n"
     ]
    },
    {
     "data": {
      "text/html": [
       "<img src=\"http://www.cse.unt.edu/~blanco/screenshot/christmas2019_1211435492446740481_anchor_1211435492446740481.png\"/>"
      ],
      "text/plain": [
       "<IPython.core.display.Image object>"
      ]
     },
     "metadata": {},
     "output_type": "display_data"
    },
    {
     "name": "stdout",
     "output_type": "stream",
     "text": [
      "-------------- Tweet 5 --------------\n",
      "\n"
     ]
    },
    {
     "data": {
      "text/html": [
       "<img src=\"http://www.cse.unt.edu/~blanco/screenshot/christmas2019_1211435492446740481_1211677086588579840.png\"/>"
      ],
      "text/plain": [
       "<IPython.core.display.Image object>"
      ]
     },
     "metadata": {},
     "output_type": "display_data"
    },
    {
     "name": "stdout",
     "output_type": "stream",
     "text": [
      "-------------- Tweet 6 --------------\n",
      "\n"
     ]
    },
    {
     "data": {
      "text/html": [
       "<img src=\"http://www.cse.unt.edu/~blanco/screenshot/christmas2019_1211435492446740481_1211858531932082176.png\"/>"
      ],
      "text/plain": [
       "<IPython.core.display.Image object>"
      ]
     },
     "metadata": {},
     "output_type": "display_data"
    },
    {
     "name": "stdout",
     "output_type": "stream",
     "text": [
      "-------------- Tweet 7 --------------\n",
      "\n"
     ]
    },
    {
     "data": {
      "text/html": [
       "<img src=\"http://www.cse.unt.edu/~blanco/screenshot/christmas2019_1211435492446740481_1212039725613273089.png\"/>"
      ],
      "text/plain": [
       "<IPython.core.display.Image object>"
      ]
     },
     "metadata": {},
     "output_type": "display_data"
    }
   ],
   "source": [
    "from IPython.display import display, Image\n",
    "\n",
    "query_text = \"\"\"Whitney Houston\"\"\"\n",
    "\n",
    "for error in errors:\n",
    "    texts = [value for key, value in error.items() if key.endswith(\"text\")]\n",
    "    for text in texts:\n",
    "        if query_text in text:\n",
    "            print(f\"instance_id: {error['instance_id']}\")\n",
    "            print(f\"Location: {error['anchor_location']}, gold_label: {error['adjudicated_label']}, pred_label: {error['pred_label']}\")\n",
    "            print(\"-------------- Tweet 1 --------------\\n\")\n",
    "            display(Image(url=error['context8_url']))\n",
    "            print(\"-------------- Tweet 2 --------------\\n\")\n",
    "            display(Image(url=error['context9_url']))\n",
    "            print(\"-------------- Tweet 3 --------------\\n\")\n",
    "            display(Image(url=error['context10_url']))\n",
    "            print(\"-------------- Tweet 4 --------------\\n\")\n",
    "            display(Image(url=error['anchor_url']))\n",
    "            print(\"-------------- Tweet 5 --------------\\n\")\n",
    "            display(Image(url=error['context11_url']))\n",
    "            print(\"-------------- Tweet 6 --------------\\n\")\n",
    "            display(Image(url=error['context12_url']))\n",
    "            print(\"-------------- Tweet 7 --------------\\n\")\n",
    "            display(Image(url=error['context13_url']))\n",
    "            break"
   ]
  },
  {
   "cell_type": "code",
   "execution_count": null,
   "id": "5ff8bf14",
   "metadata": {},
   "outputs": [],
   "source": []
  },
  {
   "cell_type": "code",
   "execution_count": null,
   "id": "55e73ef8",
   "metadata": {},
   "outputs": [],
   "source": []
  },
  {
   "cell_type": "code",
   "execution_count": null,
   "id": "0294223c",
   "metadata": {},
   "outputs": [],
   "source": []
  }
 ],
 "metadata": {
  "kernelspec": {
   "display_name": "Python 3 (ipykernel)",
   "language": "python",
   "name": "python3"
  },
  "language_info": {
   "codemirror_mode": {
    "name": "ipython",
    "version": 3
   },
   "file_extension": ".py",
   "mimetype": "text/x-python",
   "name": "python",
   "nbconvert_exporter": "python",
   "pygments_lexer": "ipython3",
   "version": "3.8.10"
  }
 },
 "nbformat": 4,
 "nbformat_minor": 5
}
