{
 "cells": [
  {
   "cell_type": "code",
   "execution_count": 5,
   "id": "a0d7ebd3",
   "metadata": {},
   "outputs": [],
   "source": [
    "import os\n",
    "import json\n",
    "\n",
    "prediction_folder = 'predictions'\n",
    "prediction_filename = 'prediction_all_bert_lstm.json'\n",
    "prediction_filepath = os.path.join(prediction_folder, prediction_filename)\n",
    "\n",
    "def load_prediction(filepath):\n",
    "    instances = []\n",
    "    with open(filepath, 'r') as jsonfile:\n",
    "        lines = jsonfile.read().split(\"\\n\")[:-1]\n",
    "        for line in lines:\n",
    "            instance = json.loads(line)\n",
    "            instances.append(instance)\n",
    "    return instances\n",
    "\n",
    "# load the instances with predictions\n",
    "instances = load_prediction(prediction_filepath)\n",
    "\n",
    "# get the instances whose predictions are not correct\n",
    "errors = [ins for ins in instances if ins['adjudicated_label'] != ins['pred_label']]"
   ]
  },
  {
   "cell_type": "markdown",
   "id": "100ec832",
   "metadata": {},
   "source": [
    "## generate html file to display 100 sampled errors"
   ]
  },
  {
   "cell_type": "code",
   "execution_count": 17,
   "id": "675e1bec",
   "metadata": {},
   "outputs": [
    {
     "name": "stdout",
     "output_type": "stream",
     "text": [
      "Done\n"
     ]
    }
   ],
   "source": [
    "import random\n",
    "\n",
    "def get_html(errors, num_samples=100, html_filename='errors.html'):\n",
    "    sampled_errors = random.sample(errors, num_samples)\n",
    "    with open(html_filename, 'w') as htmlfile:\n",
    "        htmlfile.write(\"<!DOCTYPE html>\\n<html>\\n<head>\\n<title>Error Example</title>\\n</head>\\n<body>\\n\")\n",
    "        htmlfile.write(\"\"\"<table style=\\\"margin-left: auto; margin-right: auto; border: 1px solid black; line-height: 1.0em; width: 1200\\\">\\n\"\"\")\n",
    "        image_css = \"\"\"style=\\\"display: block; margin-left: auto; margin-right: auto; max-width: 450px; max-height: 650px;\\\"\"\"\"\n",
    "\n",
    "        for error in sampled_errors:\n",
    "            \n",
    "            ###########################\n",
    "            ### 3 context tweets before\n",
    "            ###########################\n",
    "            \n",
    "            htmlfile.write(\"<tr>\\n\")\n",
    "\n",
    "            # context8_url\n",
    "            htmlfile.write(\"<td style=\\\"width:400; border-bottom: 1px solid black;\\\">\\n\")\n",
    "            htmlfile.write(f\"<img src=\\\"{error['context8_url']}\\\" {image_css}>\\n\")\n",
    "            htmlfile.write(\"</td>\\n\")\n",
    "\n",
    "            # context9_url\n",
    "            htmlfile.write(\"<td style=\\\"width:400; border-bottom: 1px solid black;\\\">\\n\")\n",
    "            htmlfile.write(f\"<img src=\\\"{error['context9_url']}\\\" {image_css}>\\n\")\n",
    "            htmlfile.write(\"</td>\\n\")\n",
    "\n",
    "            # context10_url\n",
    "            htmlfile.write(\"<td style=\\\"width:400; border-bottom: 1px solid black;\\\">\\n\")\n",
    "            htmlfile.write(f\"<img src=\\\"{error['context10_url']}\\\" {image_css}>\\n\")\n",
    "            htmlfile.write(\"</td>\\n\")\n",
    "\n",
    "            htmlfile.write(\"</tr>\\n\")\n",
    "            \n",
    "            ###########################\n",
    "            ### anchor tweet\n",
    "            ###########################\n",
    "            \n",
    "            htmlfile.write(\"<tr>\\n\")\n",
    "            htmlfile.write(\"<td style=\\\"width:400; border-bottom: 1px solid black;\\\"></td>\\n\")\n",
    "\n",
    "            # anchor_url\n",
    "            htmlfile.write(\"<td style=\\\"width:400; border-bottom: 1px solid black;\\\">\\n\")\n",
    "            htmlfile.write(f\"<img src=\\\"{error['anchor_url']}\\\" {image_css}>\\n\")\n",
    "            htmlfile.write(\"</td>\\n\")\n",
    "\n",
    "            htmlfile.write(\"<td style=\\\"width:400; border-bottom: 1px solid black;\\\"></td>\\n\")\n",
    "            htmlfile.write(\"</tr>\\n\")\n",
    "            \n",
    "            ###########################\n",
    "            ### 3 context tweets after\n",
    "            ###########################\n",
    "            \n",
    "            htmlfile.write(\"<tr>\\n\")\n",
    "\n",
    "            # context11_url\n",
    "            htmlfile.write(\"<td style=\\\"width:400; border-bottom: 1px solid black;\\\">\\n\")\n",
    "            htmlfile.write(f\"<img src=\\\"{error['context11_url']}\\\" {image_css}>\\n\")\n",
    "            htmlfile.write(\"</td>\\n\")\n",
    "\n",
    "            # context12_url\n",
    "            htmlfile.write(\"<td style=\\\"width:400; border-bottom: 1px solid black;\\\">\\n\")\n",
    "            htmlfile.write(f\"<img src=\\\"{error['context12_url']}\\\" {image_css}>\\n\")\n",
    "            htmlfile.write(\"</td>\\n\")\n",
    "\n",
    "            # context13_url\n",
    "            htmlfile.write(\"<td style=\\\"width:400; border-bottom: 1px solid black;\\\">\\n\")\n",
    "            htmlfile.write(f\"<img src=\\\"{error['context13_url']}\\\" {image_css}>\\n\")\n",
    "            htmlfile.write(\"</td>\\n\")\n",
    "\n",
    "            htmlfile.write(\"</tr>\\n\")\n",
    "\n",
    "    print(\"Done\")\n",
    "            \n",
    "get_html(errors)"
   ]
  },
  {
   "cell_type": "code",
   "execution_count": null,
   "id": "96eca075",
   "metadata": {},
   "outputs": [],
   "source": []
  },
  {
   "cell_type": "code",
   "execution_count": null,
   "id": "75ad8f35",
   "metadata": {},
   "outputs": [],
   "source": []
  },
  {
   "cell_type": "code",
   "execution_count": null,
   "id": "5ff8bf14",
   "metadata": {},
   "outputs": [],
   "source": []
  },
  {
   "cell_type": "code",
   "execution_count": null,
   "id": "55e73ef8",
   "metadata": {},
   "outputs": [],
   "source": []
  },
  {
   "cell_type": "code",
   "execution_count": null,
   "id": "0294223c",
   "metadata": {},
   "outputs": [],
   "source": []
  }
 ],
 "metadata": {
  "kernelspec": {
   "display_name": "stuff",
   "language": "python",
   "name": "jupyter"
  },
  "language_info": {
   "codemirror_mode": {
    "name": "ipython",
    "version": 3
   },
   "file_extension": ".py",
   "mimetype": "text/x-python",
   "name": "python",
   "nbconvert_exporter": "python",
   "pygments_lexer": "ipython3",
   "version": "3.8.5"
  }
 },
 "nbformat": 4,
 "nbformat_minor": 5
}
